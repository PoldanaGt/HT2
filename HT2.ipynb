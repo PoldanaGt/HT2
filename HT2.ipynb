{
 "cells": [
  {
   "attachments": {},
   "cell_type": "markdown",
   "metadata": {},
   "source": [
    "# HOJA DE TRABAJO # 2"
   ]
  },
  {
   "attachments": {},
   "cell_type": "markdown",
   "metadata": {},
   "source": [
    "## Parte 1"
   ]
  },
  {
   "attachments": {},
   "cell_type": "markdown",
   "metadata": {},
   "source": [
    "### 1. Haga un programa en Python que reciba de parámetro un número de segundos y que despliegue en pantalla, las horas, minutos y segundos que representan. "
   ]
  },
  {
   "cell_type": "code",
   "execution_count": 5,
   "metadata": {},
   "outputs": [
    {
     "name": "stdout",
     "output_type": "stream",
     "text": [
      "45216 segundos equivalen a 12 horas, 33 minutos y 36 segundos\n"
     ]
    }
   ],
   "source": [
    "sec= int(input(\"Ingrese una cantidad de segundos\"))\n",
    "horas=sec//3600\n",
    "minutos=(sec%3600)//60\n",
    "segundos= sec%60\n",
    "print(f\"{sec} segundos equivalen a {horas} horas, {minutos} minutos y {segundos} segundos\" )\n"
   ]
  },
  {
   "attachments": {},
   "cell_type": "markdown",
   "metadata": {},
   "source": [
    "### 2. Haga una función en Python que dado un n+umero entre 1 y 20. Y un carácter cualquiera despliegue cuatro patrones triangulares."
   ]
  },
  {
   "cell_type": "code",
   "execution_count": 80,
   "metadata": {},
   "outputs": [],
   "source": [
    "def triangulos(n,char):\n",
    "    if n<1 or n>20:\n",
    "        print (\"Ingrese un valor entero entre 1 y 20\")\n",
    "    else:\n",
    "        for i in range(1,n+1):\n",
    "            str1= str(char) * i \n",
    "            str2=  \" \" *(n-i)\n",
    "            str3= str(char) * (n-i+1) \n",
    "            str4= \" \" * (i-1)\n",
    "            space= \" \" * 2\n",
    "            string= str1 + str2 +space + str4 + str3 +space + str3 + str4 +space + str2 + str1\n",
    "            print(string)"
   ]
  },
  {
   "cell_type": "code",
   "execution_count": 86,
   "metadata": {},
   "outputs": [
    {
     "name": "stdout",
     "output_type": "stream",
     "text": [
      "*      *****  *****      *\n",
      "**      ****  ****      **\n",
      "***      ***  ***      ***\n",
      "****      **  **      ****\n",
      "*****      *  *      *****\n",
      "0                     00000000000000000000  00000000000000000000                     0\n",
      "00                     0000000000000000000  0000000000000000000                     00\n",
      "000                     000000000000000000  000000000000000000                     000\n",
      "0000                     00000000000000000  00000000000000000                     0000\n",
      "00000                     0000000000000000  0000000000000000                     00000\n",
      "000000                     000000000000000  000000000000000                     000000\n",
      "0000000                     00000000000000  00000000000000                     0000000\n",
      "00000000                     0000000000000  0000000000000                     00000000\n",
      "000000000                     000000000000  000000000000                     000000000\n",
      "0000000000                     00000000000  00000000000                     0000000000\n",
      "00000000000                     0000000000  0000000000                     00000000000\n",
      "000000000000                     000000000  000000000                     000000000000\n",
      "0000000000000                     00000000  00000000                     0000000000000\n",
      "00000000000000                     0000000  0000000                     00000000000000\n",
      "000000000000000                     000000  000000                     000000000000000\n",
      "0000000000000000                     00000  00000                     0000000000000000\n",
      "00000000000000000                     0000  0000                     00000000000000000\n",
      "000000000000000000                     000  000                     000000000000000000\n",
      "0000000000000000000                     00  00                     0000000000000000000\n",
      "00000000000000000000                     0  0                     00000000000000000000\n",
      "Ingrese un valor entero entre 1 y 20\n"
     ]
    }
   ],
   "source": [
    "triangulos (5,\"*\")\n",
    "triangulos (20,0)\n",
    "triangulos (25,\"@\")"
   ]
  },
  {
   "attachments": {},
   "cell_type": "markdown",
   "metadata": {},
   "source": [
    "### 3. Haga un programa en Python que la fecha de nacimiento de una persona (puede ingresar por separado cada valor, es decir pedir primero día, luego mes y luego año), despliegue la edad de la persona en años, meses y días. Su resultado puede ser aproximado."
   ]
  },
  {
   "cell_type": "code",
   "execution_count": null,
   "metadata": {},
   "outputs": [],
   "source": [
    "from datetime import date\n",
    "try:\n",
    "    año = int(input (\"Ingresa tu año de nacimiento:\"))\n",
    "    mes = int(input (\"ahora tu mes de nacimiento en números:\"))\n",
    "    dia = int(input (\"por último tu día de nacimiento:\"))\n",
    "\n",
    "    cumple=date(año,mes,dia)\n",
    "    hoy = date.today()\n",
    "\n",
    "    edad = (hoy - cumple).days\n",
    "    y= edad//365\n",
    "    m= (edad%365)//30\n",
    "    d= edad%30\n",
    "    print (f\"Usted tiene aproximadamente {y} años, {m} meses y {d} días de vida\")\n",
    "except ValueError as ex:\n",
    "    print(\"Ha ingresado valores no permitidos:\")\n",
    "    print(ex)"
   ]
  },
  {
   "attachments": {},
   "cell_type": "markdown",
   "metadata": {},
   "source": [
    "### 4. Escriba una función en Python que dada una tupla de elementos (números o letras) esta se convierta a un string"
   ]
  },
  {
   "cell_type": "code",
   "execution_count": 3,
   "metadata": {},
   "outputs": [],
   "source": [
    "def StringInator (toup):\n",
    "    T=tuple(toup)\n",
    "    L=\"\"\n",
    "    for index, value in enumerate(T):\n",
    "        L=L + str(value)\n",
    "    print (L)"
   ]
  },
  {
   "cell_type": "code",
   "execution_count": 18,
   "metadata": {},
   "outputs": [
    {
     "name": "stdout",
     "output_type": "stream",
     "text": [
      "123Trueholamundox\n"
     ]
    }
   ],
   "source": [
    "StringInator ((1,2,3,True,\"hola\",\"mundo\",\"x\"))"
   ]
  },
  {
   "cell_type": "code",
   "execution_count": 75,
   "metadata": {},
   "outputs": [],
   "source": [
    "def TuplelimInator (Lt):\n",
    "    if type(Lt)!=list:\n",
    "        print(\"Por favor ingrese una LISTA de tuplas\")\n",
    "    else: \n",
    "        Li=[]\n",
    "        err=False\n",
    "        for inx, val in enumerate(Lt):\n",
    "            if type(Lt[inx])!=tuple:\n",
    "                print(\"Por favor ingrese una lista de TUPLAS\")\n",
    "                Err=True\n",
    "                break\n",
    "            elif len(Lt[inx])!=0:\n",
    "                Li.append(val)\n",
    "        if err==False:\n",
    "            print(Li)    "
   ]
  },
  {
   "cell_type": "code",
   "execution_count": 77,
   "metadata": {},
   "outputs": [
    {
     "name": "stdout",
     "output_type": "stream",
     "text": [
      "[(1,), (26, 45), ('a', 'b', 'd'), (1, 2, 3)]\n"
     ]
    }
   ],
   "source": [
    "TuplelimInator([(1,),(),(),(),(),(),(26,45),(),(),('a','b','d'),(),(1,2,3),(),(),(),(),()])"
   ]
  },
  {
   "attachments": {},
   "cell_type": "markdown",
   "metadata": {},
   "source": [
    "### 6. Cree una función en Python que dada una tupla de tuplas con números, produzca una tupla con el promedio de cada tupla individual."
   ]
  },
  {
   "cell_type": "code",
   "execution_count": 97,
   "metadata": {},
   "outputs": [],
   "source": [
    "import numpy as np\n",
    "\n",
    "def MeanInator (Tt):\n",
    "    if type(Tt)!=tuple:\n",
    "        print(\"Por favor ingrese una TUPLA de tuplas\")\n",
    "    else: \n",
    "        Ti=[]\n",
    "        err=False\n",
    "        for inx, val in enumerate(Tt):\n",
    "            if type(Tt[inx])!=tuple:\n",
    "                print(\"Por favor ingrese una tupla de TUPLAS\")\n",
    "                Err=True\n",
    "                break\n",
    "            else:\n",
    "                Ti.append(np.mean(Tt[inx]))\n",
    "        if err==False:\n",
    "            Tt=tuple(Ti)\n",
    "            print(Tt)    "
   ]
  },
  {
   "cell_type": "code",
   "execution_count": 103,
   "metadata": {},
   "outputs": [
    {
     "name": "stdout",
     "output_type": "stream",
     "text": [
      "(2.0, 5.0, 8.5)\n"
     ]
    }
   ],
   "source": [
    "MeanInator(((1,2,3),(4,5,6),(7,8,9,10)))"
   ]
  }
 ],
 "metadata": {
  "kernelspec": {
   "display_name": "Python 3",
   "language": "python",
   "name": "python3"
  },
  "language_info": {
   "codemirror_mode": {
    "name": "ipython",
    "version": 3
   },
   "file_extension": ".py",
   "mimetype": "text/x-python",
   "name": "python",
   "nbconvert_exporter": "python",
   "pygments_lexer": "ipython3",
   "version": "3.9.13"
  },
  "orig_nbformat": 4,
  "vscode": {
   "interpreter": {
    "hash": "b80fbad3954ffc7619849fd62912cadd3c2aff1398eac1c01623f9c14b127989"
   }
  }
 },
 "nbformat": 4,
 "nbformat_minor": 2
}
